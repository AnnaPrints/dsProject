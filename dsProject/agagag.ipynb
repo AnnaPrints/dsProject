{
 "cells": [
  {
   "cell_type": "code",
   "execution_count": null,
   "outputs": [],
   "source": [],
   "metadata": {
    "collapsed": false
   }
  },
  {
   "cell_type": "markdown",
   "source": [
    "# Welcome to JetBrains DataSpell!\n",
    "DataSpell is an Integrated Development Environment (IDE) that is,\n",
    "dedicated to specific tasks for exploratory data analysis and prototyping ML (machine learning) models."
   ],
   "metadata": {
    "collapsed": false
   }
  },
  {
   "cell_type": "markdown",
   "source": [
    "#### Execute Python code\n",
    "To execute any Python code, just type it in the code cell. Use the cell type switcher in the editor toolbar to change the cell type.\n",
    "Click the **Run** button on the cell toolbar or press `Ctrl + Enter` to start execution.\n",
    "Preview the execution output under the code area."
   ],
   "metadata": {
    "collapsed": false
   }
  },
  {
   "cell_type": "code",
   "execution_count": null,
   "outputs": [],
   "source": [
    "print(\"Hello world!\")"
   ],
   "metadata": {
    "collapsed": false
   }
  },
  {
   "cell_type": "markdown",
   "source": [
    "#### Add a table\n",
    "Create a table using `pandas` data frame. If the package is not installed on your\n",
    "environment, place the caret on the import statement, press `Alt (option) + Enter`, and select the **Install package** action."
   ],
   "metadata": {
    "collapsed": false
   }
  },
  {
   "cell_type": "code",
   "execution_count": null,
   "outputs": [],
   "source": [
    "import pandas\n",
    "df = pandas.DataFrame(\n",
    "    {'month': [\"Jan\", \"Feb\", \"March\", \"Jan\", \"Feb\", \"March\",\"Jan\", \"Feb\", \"March\",\"Jan\", \"Feb\", \"March\",\"Jan\", \"Feb\", \"March\",\"Jan\", \"Feb\", \"March\",\"Jan\", \"Feb\", \"March\",\"Jan\", \"Feb\", \"March\",\"Jan\", \"Feb\", \"March\", \"Jan\", \"Feb\", \"March\",\"Jan\", \"Feb\", \"March\",\"Jan\", \"Feb\", \"March\",\"Jan\", \"Feb\", \"March\",\"Jan\", \"Feb\", \"March\",\"Jan\", \"Feb\", \"March\",\"Jan\", \"Feb\", \"March\",\"Jan\", \"Feb\", \"March\", \"Jan\", \"Feb\", \"March\",\"Jan\", \"Feb\", \"March\",\"Jan\", \"Feb\", \"March\",\"Jan\", \"Feb\", \"March\",\"Jan\", \"Feb\", \"March\",\"Jan\", \"Feb\", \"March\",\"Jan\", \"Feb\", \"March\",\"Jan\", \"Feb\", \"March\", \"Jan\", \"Feb\", \"March\",\"Jan\", \"Feb\", \"March\",\"Jan\", \"Feb\", \"March\",\"Jan\", \"Feb\", \"March\",\"Jan\", \"Feb\", \"March\",\"Jan\", \"Feb\", \"March\",\"Jan\", \"Feb\", \"March\",\"Jan\", \"Feb\", \"March\", \"Jan\", \"Feb\", \"March\",\"Jan\", \"Feb\", \"March\",\"Jan\", \"Feb\", \"March\",\"Jan\", \"Feb\", \"March\",\"Jan\", \"Feb\", \"March\",\"Jan\", \"Feb\", \"March\",\"Jan\", \"Feb\", \"March\"],\n",
    "    'revenue $': [119.3, 10293.5, 72133.5,119.3, 10293.5, 72133.5,119.3, 10293.5, 72133.5,119.3, 10293.5, 72133.5,119.3, 10293.5, 72133.5,119.3, 10293.5, 72133.5,119.3, 10293.5, 72133.5,119.3, 10293.5, 72133.5,119.3, 10293.5, 72133.5,119.3, 10293.5, 72133.5,119.3, 10293.5, 72133.5,119.3, 10293.5, 72133.5,119.3, 10293.5, 72133.5,119.3, 10293.5, 72133.5,119.3, 10293.5, 72133.5,119.3, 10293.5, 72133.5,119.3, 10293.5, 72133.5,119.3, 10293.5, 72133.5,119.3, 10293.5, 72133.5,119.3, 10293.5, 72133.5,119.3, 10293.5, 72133.5,119.3, 10293.5, 72133.5,119.3, 10293.5, 72133.5,119.3, 10293.5, 72133.5,119.3, 10293.5, 72133.5,119.3, 10293.5, 72133.5,119.3, 10293.5, 72133.5,119.3, 10293.5, 72133.5,119.3, 10293.5, 72133.5,119.3, 10293.5, 72133.5,119.3, 10293.5, 72133.5,119.3, 10293.5, 72133.5,119.3, 10293.5, 72133.5,119.3, 10293.5, 72133.5,119.3, 10293.5, 72133.5,119.3, 10293.5, 72133.5,119.3, 10293.5, 72133.5,119.3, 10293.5, 72133.5,119.3, 10293.5, 72133.5,119.3, 10293.5, 72133.5]}\n",
    "    )\n",
    "df"
   ],
   "metadata": {
    "collapsed": false,
    "pycharm": {
     "is_executing": true
    }
   }
  },
  {
   "cell_type": "markdown",
   "source": [
    "You can sort data in a column by clicking its header. If needed, you can select a table fragment, right-click it, and copy to paste in a data file."
   ],
   "metadata": {
    "collapsed": false
   }
  },
  {
   "cell_type": "markdown",
   "source": [
    "#### Build and view plots\n",
    "If your notebook cell involves any code that plots charts, you can save the graphics or copy it into the clipboard. Click the **More Options** icon in the upper-right corner of the chart output and select the target action."
   ],
   "metadata": {
    "collapsed": false
   }
  },
  {
   "cell_type": "code",
   "execution_count": null,
   "outputs": [],
   "source": [
    "import pandas\n",
    "\n",
    "from matplotlib import pyplot as plt\n",
    "plt.plot([1, 2, 3])\n",
    "plt.show()\n",
    "plt.show()\n",
    "plt.show()\n",
    "\n",
    "\n",
    "\n",
    "print(\"You can sort data in a column by clicking its header. If needed, you can select a table fragment, right-click it, and copy to paste in a data file.\")\n",
    "\n",
    "plt.show()\n",
    "\n",
    "df = pandas.DataFrame(\n",
    "    {'month': [\"Jan\", \"Feb\", \"March\"],\n",
    "     'revenue $': [119.3, 10293.5, 72133.5]}\n",
    ")\n",
    "\n",
    "\n",
    "\n",
    "print(\"sadasda\")\n",
    "\n",
    "plt.plot([1, 2, 3])\n",
    "plt.show()\n",
    "\n",
    "print(\"To execute any Python code, just type it in the code cell. Use the cell type switcher in the editor toolbar to change the cell type. Click the Run button on the cell toolbar or press Ctrl + Enter to start execution. Preview the execution output under the code area.\")"
   ],
   "metadata": {
    "collapsed": false
   }
  },
  {
   "cell_type": "code",
   "execution_count": null,
   "outputs": [],
   "source": [
    "\n",
    "\n",
    "print(\"sadasda\")\n",
    "\n",
    "plt.plot([1, 2, 3])\n",
    "plt.show()\n",
    "\n"
   ],
   "metadata": {
    "collapsed": false
   }
  },
  {
   "cell_type": "markdown",
   "source": [
    "Add more code or Markdown cells:\n",
    "* Add a cell after the very last cell\n",
    "* Add a cell right after the selected cell\n",
    "* Insert a new cell after executing the selected cell\n",
    "\n",
    "You can find these actions in the **Cell** menu.\n",
    "\n",
    "To edit a Markdown cell, double-click it and start typing.\n",
    "To preview the output, press `Shift + Enter`."
   ],
   "metadata": {
    "collapsed": false
   }
  },
  {
   "cell_type": "markdown",
   "source": [
    "For more information about DataSpell see the [DataSpell Web Help](https://www.jetbrains.com/help/dataspell/2020.3/)."
   ],
   "metadata": {
    "collapsed": false
   }
  },
  {
   "cell_type": "code",
   "execution_count": null,
   "outputs": [],
   "source": [
    "print(\"sadasda\")\n",
    "\n",
    "plt.plot([1, 2, 3])\n",
    "plt.show()\n",
    "\n",
    "%%html\n",
    "\n",
    "\n",
    "<style type=\"text/css\">\n",
    "\n",
    "circle {\n",
    "    fill: rgb(31, 119, 180);\n",
    "fill-opacity: .25;\n",
    "stroke: rgb(31, 119, 180);\n",
    "stroke-width: 1px;\n",
    "}\n",
    "\n",
    ".leaf circle {\n",
    "    fill: #ff7f0e;\n",
    "        fill-opacity: 1;\n",
    "}\n",
    "\n",
    "text {\n",
    "    font: 10px sans-serif;\n",
    "}\n",
    "\n",
    "</style>"
   ],
   "metadata": {
    "collapsed": false,
    "pycharm": {
     "is_executing": true
    }
   }
  },
  {
   "cell_type": "markdown",
   "source": [
    "#### Build and view plots\n",
    "If your notebook cell involves any code that plots charts, you can save the graphics or copy it into the clipboard. Click the **More Options** icon in the upper-right corner of the chart output and select the target action."
   ],
   "metadata": {
    "collapsed": false
   }
  },
  {
   "cell_type": "code",
   "execution_count": null,
   "outputs": [],
   "source": [],
   "metadata": {
    "collapsed": false
   }
  },
  {
   "cell_type": "code",
   "execution_count": null,
   "outputs": [],
   "source": [],
   "metadata": {
    "collapsed": false
   }
  },
  {
   "cell_type": "code",
   "execution_count": null,
   "outputs": [],
   "source": [],
   "metadata": {
    "collapsed": false
   }
  },
  {
   "cell_type": "code",
   "execution_count": null,
   "metadata": {
    "collapsed": true
   },
   "outputs": [],
   "source": []
  }
 ],
 "metadata": {
  "kernelspec": {
   "display_name": "Python 3",
   "language": "python",
   "name": "python3"
  },
  "language_info": {
   "codemirror_mode": {
    "name": "ipython",
    "version": 2
   },
   "file_extension": ".py",
   "mimetype": "text/x-python",
   "name": "python",
   "nbconvert_exporter": "python",
   "pygments_lexer": "ipython2",
   "version": "2.7.6"
  }
 },
 "nbformat": 4,
 "nbformat_minor": 0
}
